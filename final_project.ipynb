{
 "cells": [
  {
   "cell_type": "markdown",
   "metadata": {},
   "source": [
    "# Color Block Portraits\n",
    "#### The overall goal of this project is to take a given photo and create a color block version of it."
   ]
  },
  {
   "cell_type": "markdown",
   "metadata": {},
   "source": [
    "## Import the Required Libraries"
   ]
  },
  {
   "cell_type": "code",
   "execution_count": 1,
   "metadata": {},
   "outputs": [],
   "source": [
    "import numpy as np\n",
    "import matplotlib.pyplot as plt\n",
    "from sklearn.cluster import KMeans\n",
    "from sklearn.utils import shuffle\n",
    "import cv2\n",
    "import ntpath\n",
    "import os"
   ]
  },
  {
   "cell_type": "markdown",
   "metadata": {},
   "source": [
    "## Create the ColorBlock Class\n",
    "#### This class processes a given image using its contours to create the output color block image."
   ]
  },
  {
   "cell_type": "code",
   "execution_count": 4,
   "metadata": {},
   "outputs": [],
   "source": [
    "class ColorBlock():\n",
    "    def __init__(self, image_path, color_count):\n",
    "        self.file = ntpath.basename(image_path).split(\".\")[0]\n",
    "        self.source = cv2.cvtColor(cv2.imread(image_path), cv2.COLOR_BGR2RGB)\n",
    "        self.color_count = color_count\n",
    "\n",
    "    def blur_image(self):\n",
    "        cv2_base_dir = os.path.dirname(os.path.abspath(cv2.__file__))\n",
    "        haar_model = os.path.join(cv2_base_dir, 'data/haarcascade_frontalface_default.xml')\n",
    "        face_detect = cv2.CascadeClassifier(haar_model)\n",
    "        face_data = face_detect.detectMultiScale(self.source, 1.01, 5)\n",
    "        \n",
    "        for (x, y, w, h) in face_data:\n",
    "            cv2.rectangle(self.source, (x, y), (x + w, y + h), (0, 255, 0), 2)\n",
    "            roi = self.source[y:y+h, x:x+w]\n",
    "            roi = cv2.GaussianBlur(roi, (133, 133), 50)\n",
    "            self.source[y:y+roi.shape[0], x:x+roi.shape[1]] = roi\n",
    "\n",
    "    def resize_image(self):\n",
    "        \"\"\"\n",
    "        This function resizes the given image to match a preset picture ratio\n",
    "        \"\"\"\n",
    "        (h, w) = self.source.shape[:2]\n",
    "        if h > w:\n",
    "            dim = (int(w * 2000 / float(h)), 2000)\n",
    "        else:\n",
    "            dim = (2000, int(h * 2000 / float(w)))\n",
    "        return cv2.resize(self.source, dim, interpolation=cv2.INTER_AREA)\n",
    "\n",
    "    def clean_image(self, image):\n",
    "        \"\"\"\n",
    "        This function takes a given image and does denoising and Morphomat operations to clean it\n",
    "        \"\"\"\n",
    "        cleaned_pic = cv2.fastNlMeansDenoisingColored(image, None, 10, 10, 7, 21)\n",
    "        kernel = cv2.getStructuringElement(cv2.MORPH_ELLIPSE, (8, 8))\n",
    "        cleaned_pic = cv2.morphologyEx(cleaned_pic, cv2.MORPH_OPEN, kernel, cv2.BORDER_REPLICATE)\n",
    "        cleaned_pic = cv2.morphologyEx(cleaned_pic, cv2.MORPH_CLOSE, kernel, cv2.BORDER_REPLICATE)\n",
    "        return cleaned_pic\n",
    "\n",
    "    def kmeans_image(self, image):\n",
    "        \"\"\"\n",
    "        This function takes a given image and returns its K-mean version\n",
    "        \"\"\"\n",
    "        w, h, dim = tuple(image.shape)\n",
    "        image_array = np.reshape(image, (w * h, dim))\n",
    "        image_array_sample = shuffle(image_array, random_state=0)[:1000]\n",
    "        kmeans = KMeans(n_clusters=self.color_count, random_state=42).fit(image_array_sample)\n",
    "        labels = kmeans.predict(image_array)\n",
    "        new_img = self.recreate_image(kmeans.cluster_centers_, labels, w, h)\n",
    "        return new_img, kmeans.cluster_centers_\n",
    "\n",
    "    def recreate_image(self, codebook, labels, width, height):\n",
    "        \"\"\"\n",
    "        This function recreates an image using stored information regarding image size, colors, and labels\n",
    "        \"\"\"\n",
    "        vfunc = lambda x: codebook[labels[x]]\n",
    "        out = vfunc(np.arange(width*height))\n",
    "        return np.resize(out, (width, height, codebook.shape[1]))\n",
    "\n",
    "    def generate_image(self):\n",
    "        \"\"\"\n",
    "        This function calls all the helper functions define earlier (above) to run our algorithm to generate\n",
    "        the color block image\n",
    "        \"\"\"\n",
    "        self.blur_image()\n",
    "        img_source = self.resize_image()\n",
    "        cleaned_img = self.clean_image(img_source)\n",
    "        cleaned_img = np.array(cleaned_img, dtype=\"uint8\")/255\n",
    "        kmeans_image, _ = self.kmeans_image(cleaned_img)\n",
    "\n",
    "        cv2.imwrite(f\"./outputs/{self.file}-output.png\", cv2.cvtColor(kmeans_image.astype('float32')*255, cv2.COLOR_BGR2RGB))"
   ]
  },
  {
   "cell_type": "markdown",
   "metadata": {},
   "source": [
    "## Run the Project\n",
    "#### The following code runs our entire project from start to finish."
   ]
  },
  {
   "cell_type": "code",
   "execution_count": 5,
   "metadata": {},
   "outputs": [],
   "source": [
    "# portrait = ColorBlock(\"inputs/person3.PNG\", 15)\n",
    "# portrait = ColorBlock(\"inputs/person.png\", 15)\n",
    "portrait = ColorBlock(\"inputs/person5.jpg\", 15)\n",
    "portrait.generate_image()"
   ]
  }
 ],
 "metadata": {
  "interpreter": {
   "hash": "7dd2912d6c39b71935c2811fb1ae14290aa7f0246c0d77dfa87d5cee0670b6e3"
  },
  "kernelspec": {
   "display_name": "Python 3.6.4 64-bit ('base': conda)",
   "language": "python",
   "name": "python3"
  },
  "language_info": {
   "codemirror_mode": {
    "name": "ipython",
    "version": 3
   },
   "file_extension": ".py",
   "mimetype": "text/x-python",
   "name": "python",
   "nbconvert_exporter": "python",
   "pygments_lexer": "ipython3",
   "version": "3.6.4"
  },
  "orig_nbformat": 4
 },
 "nbformat": 4,
 "nbformat_minor": 2
}
